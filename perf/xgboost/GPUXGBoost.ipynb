{
 "cells": [
  {
   "cell_type": "markdown",
   "metadata": {},
   "source": [
    "# H2O.ai XGBoost GPU Benchmarks"
   ]
  },
  {
   "cell_type": "markdown",
   "metadata": {},
   "source": [
    "In this notebook, we benchmark the latest version of [XGBoost](https://github.com/h2oai/xgboost), the well-known Kaggle-winning gradient boosting algorithm, and in particular, the [XGBoost GPU plugin](https://github.com/h2oai/xgboost/blob/master/plugin/updater_gpu/README.md). We also showcase the integration of XGBoost (incl. the GPU version) into H2O."
   ]
  },
  {
   "cell_type": "code",
   "execution_count": 1,
   "metadata": {},
   "outputs": [],
   "source": [
    "## For comparison between 1 GPU and 1 CPU, we use only 1 CPU:\n",
    "#numactl -C 0 -N 0 -m 0 jupyter notebook\n",
    "\n",
    "## This will ensure that we only use the first CPU on multi-CPU systems"
   ]
  },
  {
   "cell_type": "markdown",
   "metadata": {},
   "source": [
    "![1CPU](./1CPUonNUMA.png)"
   ]
  },
  {
   "cell_type": "code",
   "execution_count": 2,
   "metadata": {},
   "outputs": [],
   "source": [
    " import os"
   ]
  },
  {
   "cell_type": "code",
   "execution_count": 3,
   "metadata": {},
   "outputs": [],
   "source": [
    "## First time only: install xgboost and H2O, and restart the kernel afterwards\n",
    "if False:\n",
    "    ## Build XGBoost from source and install its Python module\n",
    "    import os\n",
    "    os.system(\"mkdir -p tmp && cd tmp && git clone https://github.com/h2oai/xgboost --recursive && cd xgboost && mkdir build && cd build && cmake .. -DPLUGIN_UPDATER_GPU=ON -DCUB_DIRECTORY=../cub -DCUDA_NVCC_FLAGS=\\\"--expt-extended-lambda -arch=sm_30\\\" && make -j; make; cd ../python-package && python3.6 setup.py install\")\n",
    "\n",
    "    ## Download and install H2O and its Python module\n",
    "    os.system(\"cd tmp && wget http://h2o-release.s3.amazonaws.com/h2o/rel-vajda/1/h2o-3.10.5.1.zip && unzip h2o-3.10.5.1.zip\")\n",
    "    os.system(\"python3.6 -m pip install h2o-3.10.5.1/python/h2o-3.10.5.1-py2.py3-none-any.whl --upgrade\")\n",
    "    \n",
    "    ## restart the kernel!"
   ]
  },
  {
   "cell_type": "code",
   "execution_count": 4,
   "metadata": {},
   "outputs": [],
   "source": [
    "%matplotlib inline\n",
    "import xgboost as xgb\n",
    "import pandas as pd\n",
    "import numpy as np\n",
    "import scipy as sp\n",
    "import os\n",
    "import time\n",
    "from sklearn import metrics"
   ]
  },
  {
   "cell_type": "code",
   "execution_count": 5,
   "metadata": {},
   "outputs": [],
   "source": [
    "path = \"../../higgs_head_2M.csv\"\n",
    "if not os.path.exists(path):\n",
    "    os.system(\"wget https://s3.amazonaws.com/h2o-public-test-data/bigdata/laptop/higgs_head_2M.csv\")\n",
    "num_class = 2\n",
    "num_round = 100\n",
    "learn_rate = 0.02\n",
    "max_depth = 10\n",
    "\n",
    "## Parse data into a Pandas Frame\n",
    "df = pd.read_csv(path, header=None)"
   ]
  },
  {
   "cell_type": "code",
   "execution_count": 6,
   "metadata": {},
   "outputs": [
    {
     "data": {
      "text/plain": [
       "(2000000, 27)"
      ]
     },
     "execution_count": 6,
     "metadata": {},
     "output_type": "execute_result"
    }
   ],
   "source": [
    "df_target = df.iloc[:,0]\n",
    "df.drop(df.iloc[:,0], axis=1, inplace=True)\n",
    "cols = df.columns.values\n",
    "df.shape"
   ]
  },
  {
   "cell_type": "code",
   "execution_count": 7,
   "metadata": {},
   "outputs": [],
   "source": [
    "train = df"
   ]
  },
  {
   "cell_type": "code",
   "execution_count": 8,
   "metadata": {},
   "outputs": [],
   "source": [
    "train_target = df_target"
   ]
  },
  {
   "cell_type": "code",
   "execution_count": 9,
   "metadata": {},
   "outputs": [
    {
     "name": "stdout",
     "output_type": "stream",
     "text": [
      "(2000000, 27)\n"
     ]
    }
   ],
   "source": [
    "print(train.shape)"
   ]
  },
  {
   "cell_type": "code",
   "execution_count": 10,
   "metadata": {},
   "outputs": [
    {
     "name": "stdout",
     "output_type": "stream",
     "text": [
      "Architecture:          x86_64\r\n",
      "CPU op-mode(s):        32-bit, 64-bit\r\n",
      "Byte Order:            Little Endian\r\n",
      "CPU(s):                8\r\n",
      "On-line CPU(s) list:   0-7\r\n",
      "Thread(s) per core:    2\r\n",
      "Core(s) per socket:    4\r\n",
      "Socket(s):             1\r\n",
      "NUMA node(s):          1\r\n",
      "Vendor ID:             GenuineIntel\r\n",
      "CPU family:            6\r\n",
      "Model:                 60\r\n",
      "Model name:            Intel(R) Core(TM) i7-4790K CPU @ 4.00GHz\r\n",
      "Stepping:              3\r\n",
      "CPU MHz:               4401.750\r\n",
      "CPU max MHz:           4400,0000\r\n",
      "CPU min MHz:           800,0000\r\n",
      "BogoMIPS:              8000.46\r\n",
      "Virtualization:        VT-x\r\n",
      "L1d cache:             32K\r\n",
      "L1i cache:             32K\r\n",
      "L2 cache:              256K\r\n",
      "L3 cache:              8192K\r\n",
      "NUMA node0 CPU(s):     0-7\r\n",
      "Flags:                 fpu vme de pse tsc msr pae mce cx8 apic sep mtrr pge mca cmov pat pse36 clflush dts acpi mmx fxsr sse sse2 ss ht tm pbe syscall nx pdpe1gb rdtscp lm constant_tsc arch_perfmon pebs bts rep_good nopl xtopology nonstop_tsc cpuid aperfmperf pni pclmulqdq dtes64 monitor ds_cpl vmx est tm2 ssse3 sdbg fma cx16 xtpr pdcm pcid sse4_1 sse4_2 x2apic movbe popcnt tsc_deadline_timer aes xsave avx f16c rdrand lahf_lm abm cpuid_fault invpcid_single pti ssbd ibrs ibpb stibp tpr_shadow vnmi flexpriority ept vpid fsgsbase tsc_adjust bmi1 avx2 smep bmi2 erms invpcid xsaveopt dtherm ida arat pln pts flush_l1d\r\n"
     ]
    }
   ],
   "source": [
    "!lscpu"
   ]
  },
  {
   "cell_type": "code",
   "execution_count": 11,
   "metadata": {
    "scrolled": true
   },
   "outputs": [
    {
     "name": "stdout",
     "output_type": "stream",
     "text": [
      "MemTotal:       16254660 kB\r\n"
     ]
    }
   ],
   "source": [
    "!cat /proc/meminfo | grep MemTotal"
   ]
  },
  {
   "cell_type": "code",
   "execution_count": 12,
   "metadata": {},
   "outputs": [
    {
     "name": "stdout",
     "output_type": "stream",
     "text": [
      "GPU 0: GeForce GTX 1080 (UUID: GPU-c404bd6a-aebc-01bb-eb71-903138fb44cb)\r\n"
     ]
    }
   ],
   "source": [
    "!nvidia-smi -L"
   ]
  },
  {
   "cell_type": "code",
   "execution_count": 13,
   "metadata": {},
   "outputs": [],
   "source": [
    "def runXGBoost(param):\n",
    "    have_updater = \"updater\" in param.keys()\n",
    "    label = \"XGBoost \" \\\n",
    "        + (\"GPU hist\" if have_updater and param[\"updater\"]==\"grow_gpu_hist\" else \"GPU exact\" if have_updater and param[\"updater\"]==\"grow_gpu\" else \"CPU\") \\\n",
    "        + \" \" + (param[\"tree_method\"] if \"updater\" not in param.keys() else \"\")\n",
    "    print(label)\n",
    "    print(\"=====================\")\n",
    "    for k, v in param.items():\n",
    "        print(k, v)\n",
    "    print(\"=====================\")\n",
    "    \n",
    "    t_start = time.time()\n",
    "    dtrain = xgb.DMatrix(train.values, label = train_target.values, feature_names=[str(c) for c in cols])\n",
    "    tt = time.time() - t_start\n",
    "    print(\"Time to create DMatrix (sec): \", tt)\n",
    "    dmatrix_times.append(tt)\n",
    "    \n",
    "    t_start = time.time()\n",
    "    bst = xgb.train(param, dtrain, num_round)\n",
    "    tt = time.time() - t_start\n",
    "    print(\"Time to train (sec): \", tt)\n",
    "    train_times.append(tt)\n",
    "\n",
    "    t_start = time.time()\n",
    "    preds = bst.predict(dtrain)\n",
    "    tt = time.time() - t_start\n",
    "    print(\"Time to predict (sec): \", tt)\n",
    "    score_times.append(tt)\n",
    "\n",
    "    labels = dtrain.get_label()\n",
    "    auc = metrics.roc_auc_score(labels, preds)\n",
    "    print(\"Training AUC:\", auc)\n",
    "    valid_aucs.append(auc)\n",
    "    plot_labels.append(label)\n",
    "    \n",
    "    fs = bst.get_fscore()\n",
    "    \n",
    "    # Optional: Uncomment to show variable importance\n",
    "    #varimp = pd.DataFrame({'Importance': list(fs.values()), 'Feature': list(fs.keys())})\n",
    "    #varimp.sort_values(by = 'Importance', inplace = True, ascending = False)\n",
    "    #varimp.head(10).plot(label='importance',kind=\"barh\",x=\"Feature\",y=\"Importance\").invert_yaxis()"
   ]
  },
  {
   "cell_type": "code",
   "execution_count": 14,
   "metadata": {},
   "outputs": [],
   "source": [
    "valid_aucs = []\n",
    "dmatrix_times = []\n",
    "train_times = []\n",
    "score_times = []\n",
    "plot_labels = []"
   ]
  },
  {
   "cell_type": "code",
   "execution_count": 15,
   "metadata": {
    "scrolled": false
   },
   "outputs": [
    {
     "name": "stdout",
     "output_type": "stream",
     "text": [
      "XGBoost CPU exact\n",
      "=====================\n",
      "objective reg:logistic\n",
      "max_depth 10\n",
      "eta 0.02\n",
      "tree_method exact\n",
      "subsample 0.7\n",
      "colsample_bytree 0.9\n",
      "min_child_weight 5\n",
      "seed 12345\n",
      "=====================\n",
      "Time to create DMatrix (sec):  0.3741605281829834\n",
      "[15:36:06] /workspace/src/tree/updater_prune.cc:74: tree pruning end, 1 roots, 1830 extra nodes, 0 pruned nodes, max_depth=10\n",
      "[15:36:09] /workspace/src/tree/updater_prune.cc:74: tree pruning end, 1 roots, 1848 extra nodes, 0 pruned nodes, max_depth=10\n",
      "[15:36:12] /workspace/src/tree/updater_prune.cc:74: tree pruning end, 1 roots, 1956 extra nodes, 0 pruned nodes, max_depth=10\n",
      "[15:36:15] /workspace/src/tree/updater_prune.cc:74: tree pruning end, 1 roots, 1876 extra nodes, 0 pruned nodes, max_depth=10\n",
      "[15:36:17] /workspace/src/tree/updater_prune.cc:74: tree pruning end, 1 roots, 1918 extra nodes, 0 pruned nodes, max_depth=10\n",
      "[15:36:20] /workspace/src/tree/updater_prune.cc:74: tree pruning end, 1 roots, 1874 extra nodes, 0 pruned nodes, max_depth=10\n",
      "[15:36:23] /workspace/src/tree/updater_prune.cc:74: tree pruning end, 1 roots, 1826 extra nodes, 0 pruned nodes, max_depth=10\n",
      "[15:36:25] /workspace/src/tree/updater_prune.cc:74: tree pruning end, 1 roots, 1974 extra nodes, 0 pruned nodes, max_depth=10\n",
      "[15:36:28] /workspace/src/tree/updater_prune.cc:74: tree pruning end, 1 roots, 1874 extra nodes, 0 pruned nodes, max_depth=10\n",
      "[15:36:31] /workspace/src/tree/updater_prune.cc:74: tree pruning end, 1 roots, 1886 extra nodes, 0 pruned nodes, max_depth=10\n",
      "[15:36:34] /workspace/src/tree/updater_prune.cc:74: tree pruning end, 1 roots, 1892 extra nodes, 0 pruned nodes, max_depth=10\n",
      "[15:36:36] /workspace/src/tree/updater_prune.cc:74: tree pruning end, 1 roots, 1860 extra nodes, 0 pruned nodes, max_depth=10\n",
      "[15:36:39] /workspace/src/tree/updater_prune.cc:74: tree pruning end, 1 roots, 1896 extra nodes, 0 pruned nodes, max_depth=10\n",
      "[15:36:42] /workspace/src/tree/updater_prune.cc:74: tree pruning end, 1 roots, 1876 extra nodes, 0 pruned nodes, max_depth=10\n",
      "[15:36:44] /workspace/src/tree/updater_prune.cc:74: tree pruning end, 1 roots, 1840 extra nodes, 0 pruned nodes, max_depth=10\n",
      "[15:36:47] /workspace/src/tree/updater_prune.cc:74: tree pruning end, 1 roots, 1924 extra nodes, 0 pruned nodes, max_depth=10\n",
      "[15:36:50] /workspace/src/tree/updater_prune.cc:74: tree pruning end, 1 roots, 1856 extra nodes, 0 pruned nodes, max_depth=10\n",
      "[15:36:53] /workspace/src/tree/updater_prune.cc:74: tree pruning end, 1 roots, 1846 extra nodes, 0 pruned nodes, max_depth=10\n",
      "[15:36:55] /workspace/src/tree/updater_prune.cc:74: tree pruning end, 1 roots, 1860 extra nodes, 0 pruned nodes, max_depth=10\n",
      "[15:36:58] /workspace/src/tree/updater_prune.cc:74: tree pruning end, 1 roots, 1930 extra nodes, 0 pruned nodes, max_depth=10\n",
      "[15:37:01] /workspace/src/tree/updater_prune.cc:74: tree pruning end, 1 roots, 1914 extra nodes, 0 pruned nodes, max_depth=10\n",
      "[15:37:03] /workspace/src/tree/updater_prune.cc:74: tree pruning end, 1 roots, 1858 extra nodes, 0 pruned nodes, max_depth=10\n",
      "[15:37:06] /workspace/src/tree/updater_prune.cc:74: tree pruning end, 1 roots, 1932 extra nodes, 0 pruned nodes, max_depth=10\n",
      "[15:37:09] /workspace/src/tree/updater_prune.cc:74: tree pruning end, 1 roots, 1838 extra nodes, 0 pruned nodes, max_depth=10\n",
      "[15:37:11] /workspace/src/tree/updater_prune.cc:74: tree pruning end, 1 roots, 1860 extra nodes, 0 pruned nodes, max_depth=10\n",
      "[15:37:14] /workspace/src/tree/updater_prune.cc:74: tree pruning end, 1 roots, 1882 extra nodes, 0 pruned nodes, max_depth=10\n",
      "[15:37:17] /workspace/src/tree/updater_prune.cc:74: tree pruning end, 1 roots, 1804 extra nodes, 0 pruned nodes, max_depth=10\n",
      "[15:37:19] /workspace/src/tree/updater_prune.cc:74: tree pruning end, 1 roots, 1872 extra nodes, 0 pruned nodes, max_depth=10\n",
      "[15:37:22] /workspace/src/tree/updater_prune.cc:74: tree pruning end, 1 roots, 1882 extra nodes, 0 pruned nodes, max_depth=10\n",
      "[15:37:25] /workspace/src/tree/updater_prune.cc:74: tree pruning end, 1 roots, 1904 extra nodes, 0 pruned nodes, max_depth=10\n",
      "[15:37:28] /workspace/src/tree/updater_prune.cc:74: tree pruning end, 1 roots, 1848 extra nodes, 0 pruned nodes, max_depth=10\n",
      "[15:37:30] /workspace/src/tree/updater_prune.cc:74: tree pruning end, 1 roots, 1868 extra nodes, 0 pruned nodes, max_depth=10\n",
      "[15:37:33] /workspace/src/tree/updater_prune.cc:74: tree pruning end, 1 roots, 1878 extra nodes, 0 pruned nodes, max_depth=10\n",
      "[15:37:36] /workspace/src/tree/updater_prune.cc:74: tree pruning end, 1 roots, 1850 extra nodes, 0 pruned nodes, max_depth=10\n",
      "[15:37:39] /workspace/src/tree/updater_prune.cc:74: tree pruning end, 1 roots, 1912 extra nodes, 0 pruned nodes, max_depth=10\n",
      "[15:37:41] /workspace/src/tree/updater_prune.cc:74: tree pruning end, 1 roots, 1932 extra nodes, 0 pruned nodes, max_depth=10\n",
      "[15:37:44] /workspace/src/tree/updater_prune.cc:74: tree pruning end, 1 roots, 1840 extra nodes, 0 pruned nodes, max_depth=10\n",
      "[15:37:47] /workspace/src/tree/updater_prune.cc:74: tree pruning end, 1 roots, 1774 extra nodes, 0 pruned nodes, max_depth=10\n",
      "[15:37:50] /workspace/src/tree/updater_prune.cc:74: tree pruning end, 1 roots, 1878 extra nodes, 0 pruned nodes, max_depth=10\n",
      "[15:37:52] /workspace/src/tree/updater_prune.cc:74: tree pruning end, 1 roots, 1914 extra nodes, 0 pruned nodes, max_depth=10\n",
      "[15:37:55] /workspace/src/tree/updater_prune.cc:74: tree pruning end, 1 roots, 1908 extra nodes, 0 pruned nodes, max_depth=10\n",
      "[15:37:58] /workspace/src/tree/updater_prune.cc:74: tree pruning end, 1 roots, 1864 extra nodes, 0 pruned nodes, max_depth=10\n",
      "[15:38:00] /workspace/src/tree/updater_prune.cc:74: tree pruning end, 1 roots, 1928 extra nodes, 0 pruned nodes, max_depth=10\n",
      "[15:38:03] /workspace/src/tree/updater_prune.cc:74: tree pruning end, 1 roots, 1896 extra nodes, 0 pruned nodes, max_depth=10\n",
      "[15:38:06] /workspace/src/tree/updater_prune.cc:74: tree pruning end, 1 roots, 1840 extra nodes, 0 pruned nodes, max_depth=10\n",
      "[15:38:09] /workspace/src/tree/updater_prune.cc:74: tree pruning end, 1 roots, 1920 extra nodes, 0 pruned nodes, max_depth=10\n",
      "[15:38:11] /workspace/src/tree/updater_prune.cc:74: tree pruning end, 1 roots, 1850 extra nodes, 0 pruned nodes, max_depth=10\n",
      "[15:38:14] /workspace/src/tree/updater_prune.cc:74: tree pruning end, 1 roots, 1888 extra nodes, 0 pruned nodes, max_depth=10\n",
      "[15:38:17] /workspace/src/tree/updater_prune.cc:74: tree pruning end, 1 roots, 1734 extra nodes, 0 pruned nodes, max_depth=10\n",
      "[15:38:19] /workspace/src/tree/updater_prune.cc:74: tree pruning end, 1 roots, 1936 extra nodes, 0 pruned nodes, max_depth=10\n",
      "[15:38:22] /workspace/src/tree/updater_prune.cc:74: tree pruning end, 1 roots, 1906 extra nodes, 0 pruned nodes, max_depth=10\n",
      "[15:38:25] /workspace/src/tree/updater_prune.cc:74: tree pruning end, 1 roots, 1798 extra nodes, 0 pruned nodes, max_depth=10\n",
      "[15:38:28] /workspace/src/tree/updater_prune.cc:74: tree pruning end, 1 roots, 1820 extra nodes, 0 pruned nodes, max_depth=10\n",
      "[15:38:31] /workspace/src/tree/updater_prune.cc:74: tree pruning end, 1 roots, 1774 extra nodes, 0 pruned nodes, max_depth=10\n",
      "[15:38:33] /workspace/src/tree/updater_prune.cc:74: tree pruning end, 1 roots, 1832 extra nodes, 0 pruned nodes, max_depth=10\n",
      "[15:38:36] /workspace/src/tree/updater_prune.cc:74: tree pruning end, 1 roots, 1836 extra nodes, 0 pruned nodes, max_depth=10\n",
      "[15:38:39] /workspace/src/tree/updater_prune.cc:74: tree pruning end, 1 roots, 1902 extra nodes, 0 pruned nodes, max_depth=10\n",
      "[15:38:41] /workspace/src/tree/updater_prune.cc:74: tree pruning end, 1 roots, 1918 extra nodes, 0 pruned nodes, max_depth=10\n",
      "[15:38:44] /workspace/src/tree/updater_prune.cc:74: tree pruning end, 1 roots, 1874 extra nodes, 0 pruned nodes, max_depth=10\n",
      "[15:38:47] /workspace/src/tree/updater_prune.cc:74: tree pruning end, 1 roots, 1744 extra nodes, 0 pruned nodes, max_depth=10\n",
      "[15:38:50] /workspace/src/tree/updater_prune.cc:74: tree pruning end, 1 roots, 1874 extra nodes, 0 pruned nodes, max_depth=10\n",
      "[15:38:52] /workspace/src/tree/updater_prune.cc:74: tree pruning end, 1 roots, 1826 extra nodes, 0 pruned nodes, max_depth=10\n",
      "[15:38:55] /workspace/src/tree/updater_prune.cc:74: tree pruning end, 1 roots, 1800 extra nodes, 0 pruned nodes, max_depth=10\n",
      "[15:38:58] /workspace/src/tree/updater_prune.cc:74: tree pruning end, 1 roots, 1854 extra nodes, 0 pruned nodes, max_depth=10\n"
     ]
    },
    {
     "name": "stdout",
     "output_type": "stream",
     "text": [
      "[15:39:01] /workspace/src/tree/updater_prune.cc:74: tree pruning end, 1 roots, 1850 extra nodes, 0 pruned nodes, max_depth=10\n",
      "[15:39:03] /workspace/src/tree/updater_prune.cc:74: tree pruning end, 1 roots, 1892 extra nodes, 0 pruned nodes, max_depth=10\n",
      "[15:39:06] /workspace/src/tree/updater_prune.cc:74: tree pruning end, 1 roots, 1864 extra nodes, 0 pruned nodes, max_depth=10\n",
      "[15:39:09] /workspace/src/tree/updater_prune.cc:74: tree pruning end, 1 roots, 1818 extra nodes, 0 pruned nodes, max_depth=10\n",
      "[15:39:12] /workspace/src/tree/updater_prune.cc:74: tree pruning end, 1 roots, 1864 extra nodes, 0 pruned nodes, max_depth=10\n",
      "[15:39:14] /workspace/src/tree/updater_prune.cc:74: tree pruning end, 1 roots, 1836 extra nodes, 0 pruned nodes, max_depth=10\n",
      "[15:39:17] /workspace/src/tree/updater_prune.cc:74: tree pruning end, 1 roots, 1876 extra nodes, 0 pruned nodes, max_depth=10\n",
      "[15:39:20] /workspace/src/tree/updater_prune.cc:74: tree pruning end, 1 roots, 1886 extra nodes, 0 pruned nodes, max_depth=10\n",
      "[15:39:23] /workspace/src/tree/updater_prune.cc:74: tree pruning end, 1 roots, 1920 extra nodes, 0 pruned nodes, max_depth=10\n",
      "[15:39:25] /workspace/src/tree/updater_prune.cc:74: tree pruning end, 1 roots, 1882 extra nodes, 0 pruned nodes, max_depth=10\n",
      "[15:39:28] /workspace/src/tree/updater_prune.cc:74: tree pruning end, 1 roots, 1930 extra nodes, 0 pruned nodes, max_depth=10\n",
      "[15:39:31] /workspace/src/tree/updater_prune.cc:74: tree pruning end, 1 roots, 1820 extra nodes, 0 pruned nodes, max_depth=10\n",
      "[15:39:34] /workspace/src/tree/updater_prune.cc:74: tree pruning end, 1 roots, 1832 extra nodes, 0 pruned nodes, max_depth=10\n",
      "[15:39:36] /workspace/src/tree/updater_prune.cc:74: tree pruning end, 1 roots, 1880 extra nodes, 0 pruned nodes, max_depth=10\n",
      "[15:39:39] /workspace/src/tree/updater_prune.cc:74: tree pruning end, 1 roots, 1812 extra nodes, 0 pruned nodes, max_depth=10\n",
      "[15:39:42] /workspace/src/tree/updater_prune.cc:74: tree pruning end, 1 roots, 1790 extra nodes, 0 pruned nodes, max_depth=10\n",
      "[15:39:45] /workspace/src/tree/updater_prune.cc:74: tree pruning end, 1 roots, 1802 extra nodes, 0 pruned nodes, max_depth=10\n",
      "[15:39:47] /workspace/src/tree/updater_prune.cc:74: tree pruning end, 1 roots, 1824 extra nodes, 0 pruned nodes, max_depth=10\n",
      "[15:39:50] /workspace/src/tree/updater_prune.cc:74: tree pruning end, 1 roots, 1738 extra nodes, 0 pruned nodes, max_depth=10\n",
      "[15:39:53] /workspace/src/tree/updater_prune.cc:74: tree pruning end, 1 roots, 1818 extra nodes, 0 pruned nodes, max_depth=10\n",
      "[15:39:56] /workspace/src/tree/updater_prune.cc:74: tree pruning end, 1 roots, 1678 extra nodes, 0 pruned nodes, max_depth=10\n",
      "[15:39:58] /workspace/src/tree/updater_prune.cc:74: tree pruning end, 1 roots, 1806 extra nodes, 0 pruned nodes, max_depth=10\n",
      "[15:40:01] /workspace/src/tree/updater_prune.cc:74: tree pruning end, 1 roots, 1894 extra nodes, 0 pruned nodes, max_depth=10\n",
      "[15:40:04] /workspace/src/tree/updater_prune.cc:74: tree pruning end, 1 roots, 1738 extra nodes, 0 pruned nodes, max_depth=10\n",
      "[15:40:07] /workspace/src/tree/updater_prune.cc:74: tree pruning end, 1 roots, 1840 extra nodes, 0 pruned nodes, max_depth=10\n",
      "[15:40:09] /workspace/src/tree/updater_prune.cc:74: tree pruning end, 1 roots, 1756 extra nodes, 0 pruned nodes, max_depth=10\n",
      "[15:40:12] /workspace/src/tree/updater_prune.cc:74: tree pruning end, 1 roots, 1720 extra nodes, 0 pruned nodes, max_depth=10\n",
      "[15:40:15] /workspace/src/tree/updater_prune.cc:74: tree pruning end, 1 roots, 1866 extra nodes, 0 pruned nodes, max_depth=10\n",
      "[15:40:18] /workspace/src/tree/updater_prune.cc:74: tree pruning end, 1 roots, 1856 extra nodes, 0 pruned nodes, max_depth=10\n",
      "[15:40:20] /workspace/src/tree/updater_prune.cc:74: tree pruning end, 1 roots, 1788 extra nodes, 0 pruned nodes, max_depth=10\n",
      "[15:40:23] /workspace/src/tree/updater_prune.cc:74: tree pruning end, 1 roots, 1854 extra nodes, 0 pruned nodes, max_depth=10\n",
      "[15:40:26] /workspace/src/tree/updater_prune.cc:74: tree pruning end, 1 roots, 1840 extra nodes, 0 pruned nodes, max_depth=10\n",
      "[15:40:29] /workspace/src/tree/updater_prune.cc:74: tree pruning end, 1 roots, 1826 extra nodes, 0 pruned nodes, max_depth=10\n",
      "[15:40:31] /workspace/src/tree/updater_prune.cc:74: tree pruning end, 1 roots, 1860 extra nodes, 0 pruned nodes, max_depth=10\n",
      "[15:40:34] /workspace/src/tree/updater_prune.cc:74: tree pruning end, 1 roots, 1730 extra nodes, 0 pruned nodes, max_depth=10\n",
      "[15:40:37] /workspace/src/tree/updater_prune.cc:74: tree pruning end, 1 roots, 1754 extra nodes, 0 pruned nodes, max_depth=10\n",
      "Time to train (sec):  273.9319097995758\n",
      "Time to predict (sec):  0.006193399429321289\n",
      "Training AUC: 0.8148250461677832\n"
     ]
    }
   ],
   "source": [
    "param = {\n",
    "    \"objective\":('reg:logistic' if num_class>1 else 'reg:linear')\n",
    "    , \"max_depth\":max_depth\n",
    "    , \"eta\":learn_rate\n",
    "    , \"tree_method\":\"exact\"\n",
    "    , \"subsample\":0.7\n",
    "    , \"colsample_bytree\":0.9\n",
    "    , \"min_child_weight\":5\n",
    "    , \"seed\":12345\n",
    "}\n",
    "runXGBoost(param)"
   ]
  },
  {
   "cell_type": "code",
   "execution_count": 16,
   "metadata": {
    "scrolled": true
   },
   "outputs": [
    {
     "name": "stdout",
     "output_type": "stream",
     "text": [
      "XGBoost CPU approx\n",
      "=====================\n",
      "objective reg:logistic\n",
      "max_depth 10\n",
      "eta 0.02\n",
      "tree_method approx\n",
      "subsample 0.7\n",
      "colsample_bytree 0.9\n",
      "min_child_weight 5\n",
      "seed 12345\n",
      "=====================\n",
      "Time to create DMatrix (sec):  0.3513340950012207\n",
      "[15:40:38] Tree method is selected to be 'approx'\n",
      "[15:40:41] /workspace/src/tree/updater_prune.cc:74: tree pruning end, 1 roots, 1830 extra nodes, 0 pruned nodes, max_depth=10\n",
      "[15:40:44] /workspace/src/tree/updater_prune.cc:74: tree pruning end, 1 roots, 1848 extra nodes, 0 pruned nodes, max_depth=10\n",
      "[15:40:46] /workspace/src/tree/updater_prune.cc:74: tree pruning end, 1 roots, 1956 extra nodes, 0 pruned nodes, max_depth=10\n",
      "[15:40:49] /workspace/src/tree/updater_prune.cc:74: tree pruning end, 1 roots, 1876 extra nodes, 0 pruned nodes, max_depth=10\n",
      "[15:40:52] /workspace/src/tree/updater_prune.cc:74: tree pruning end, 1 roots, 1918 extra nodes, 0 pruned nodes, max_depth=10\n",
      "[15:40:54] /workspace/src/tree/updater_prune.cc:74: tree pruning end, 1 roots, 1874 extra nodes, 0 pruned nodes, max_depth=10\n",
      "[15:40:58] /workspace/src/tree/updater_prune.cc:74: tree pruning end, 1 roots, 1826 extra nodes, 0 pruned nodes, max_depth=10\n",
      "[15:41:01] /workspace/src/tree/updater_prune.cc:74: tree pruning end, 1 roots, 1974 extra nodes, 0 pruned nodes, max_depth=10\n",
      "[15:41:03] /workspace/src/tree/updater_prune.cc:74: tree pruning end, 1 roots, 1874 extra nodes, 0 pruned nodes, max_depth=10\n",
      "[15:41:06] /workspace/src/tree/updater_prune.cc:74: tree pruning end, 1 roots, 1886 extra nodes, 0 pruned nodes, max_depth=10\n",
      "[15:41:09] /workspace/src/tree/updater_prune.cc:74: tree pruning end, 1 roots, 1892 extra nodes, 0 pruned nodes, max_depth=10\n",
      "[15:41:11] /workspace/src/tree/updater_prune.cc:74: tree pruning end, 1 roots, 1860 extra nodes, 0 pruned nodes, max_depth=10\n",
      "[15:41:14] /workspace/src/tree/updater_prune.cc:74: tree pruning end, 1 roots, 1896 extra nodes, 0 pruned nodes, max_depth=10\n",
      "[15:41:16] /workspace/src/tree/updater_prune.cc:74: tree pruning end, 1 roots, 1876 extra nodes, 0 pruned nodes, max_depth=10\n",
      "[15:41:19] /workspace/src/tree/updater_prune.cc:74: tree pruning end, 1 roots, 1840 extra nodes, 0 pruned nodes, max_depth=10\n",
      "[15:41:22] /workspace/src/tree/updater_prune.cc:74: tree pruning end, 1 roots, 1924 extra nodes, 0 pruned nodes, max_depth=10\n",
      "[15:41:24] /workspace/src/tree/updater_prune.cc:74: tree pruning end, 1 roots, 1856 extra nodes, 0 pruned nodes, max_depth=10\n",
      "[15:41:27] /workspace/src/tree/updater_prune.cc:74: tree pruning end, 1 roots, 1846 extra nodes, 0 pruned nodes, max_depth=10\n",
      "[15:41:30] /workspace/src/tree/updater_prune.cc:74: tree pruning end, 1 roots, 1860 extra nodes, 0 pruned nodes, max_depth=10\n",
      "[15:41:32] /workspace/src/tree/updater_prune.cc:74: tree pruning end, 1 roots, 1930 extra nodes, 0 pruned nodes, max_depth=10\n",
      "[15:41:35] /workspace/src/tree/updater_prune.cc:74: tree pruning end, 1 roots, 1914 extra nodes, 0 pruned nodes, max_depth=10\n",
      "[15:41:38] /workspace/src/tree/updater_prune.cc:74: tree pruning end, 1 roots, 1858 extra nodes, 0 pruned nodes, max_depth=10\n",
      "[15:41:40] /workspace/src/tree/updater_prune.cc:74: tree pruning end, 1 roots, 1932 extra nodes, 0 pruned nodes, max_depth=10\n",
      "[15:41:43] /workspace/src/tree/updater_prune.cc:74: tree pruning end, 1 roots, 1838 extra nodes, 0 pruned nodes, max_depth=10\n",
      "[15:41:46] /workspace/src/tree/updater_prune.cc:74: tree pruning end, 1 roots, 1860 extra nodes, 0 pruned nodes, max_depth=10\n",
      "[15:41:49] /workspace/src/tree/updater_prune.cc:74: tree pruning end, 1 roots, 1882 extra nodes, 0 pruned nodes, max_depth=10\n",
      "[15:41:51] /workspace/src/tree/updater_prune.cc:74: tree pruning end, 1 roots, 1804 extra nodes, 0 pruned nodes, max_depth=10\n",
      "[15:41:54] /workspace/src/tree/updater_prune.cc:74: tree pruning end, 1 roots, 1872 extra nodes, 0 pruned nodes, max_depth=10\n",
      "[15:41:57] /workspace/src/tree/updater_prune.cc:74: tree pruning end, 1 roots, 1882 extra nodes, 0 pruned nodes, max_depth=10\n",
      "[15:41:59] /workspace/src/tree/updater_prune.cc:74: tree pruning end, 1 roots, 1904 extra nodes, 0 pruned nodes, max_depth=10\n",
      "[15:42:02] /workspace/src/tree/updater_prune.cc:74: tree pruning end, 1 roots, 1848 extra nodes, 0 pruned nodes, max_depth=10\n",
      "[15:42:04] /workspace/src/tree/updater_prune.cc:74: tree pruning end, 1 roots, 1868 extra nodes, 0 pruned nodes, max_depth=10\n",
      "[15:42:07] /workspace/src/tree/updater_prune.cc:74: tree pruning end, 1 roots, 1878 extra nodes, 0 pruned nodes, max_depth=10\n",
      "[15:42:10] /workspace/src/tree/updater_prune.cc:74: tree pruning end, 1 roots, 1850 extra nodes, 0 pruned nodes, max_depth=10\n",
      "[15:42:12] /workspace/src/tree/updater_prune.cc:74: tree pruning end, 1 roots, 1912 extra nodes, 0 pruned nodes, max_depth=10\n",
      "[15:42:15] /workspace/src/tree/updater_prune.cc:74: tree pruning end, 1 roots, 1932 extra nodes, 0 pruned nodes, max_depth=10\n",
      "[15:42:18] /workspace/src/tree/updater_prune.cc:74: tree pruning end, 1 roots, 1840 extra nodes, 0 pruned nodes, max_depth=10\n",
      "[15:42:20] /workspace/src/tree/updater_prune.cc:74: tree pruning end, 1 roots, 1774 extra nodes, 0 pruned nodes, max_depth=10\n",
      "[15:42:23] /workspace/src/tree/updater_prune.cc:74: tree pruning end, 1 roots, 1878 extra nodes, 0 pruned nodes, max_depth=10\n",
      "[15:42:26] /workspace/src/tree/updater_prune.cc:74: tree pruning end, 1 roots, 1914 extra nodes, 0 pruned nodes, max_depth=10\n",
      "[15:42:28] /workspace/src/tree/updater_prune.cc:74: tree pruning end, 1 roots, 1908 extra nodes, 0 pruned nodes, max_depth=10\n",
      "[15:42:31] /workspace/src/tree/updater_prune.cc:74: tree pruning end, 1 roots, 1864 extra nodes, 0 pruned nodes, max_depth=10\n",
      "[15:42:34] /workspace/src/tree/updater_prune.cc:74: tree pruning end, 1 roots, 1928 extra nodes, 0 pruned nodes, max_depth=10\n",
      "[15:42:36] /workspace/src/tree/updater_prune.cc:74: tree pruning end, 1 roots, 1896 extra nodes, 0 pruned nodes, max_depth=10\n",
      "[15:42:39] /workspace/src/tree/updater_prune.cc:74: tree pruning end, 1 roots, 1840 extra nodes, 0 pruned nodes, max_depth=10\n",
      "[15:42:42] /workspace/src/tree/updater_prune.cc:74: tree pruning end, 1 roots, 1920 extra nodes, 0 pruned nodes, max_depth=10\n",
      "[15:42:44] /workspace/src/tree/updater_prune.cc:74: tree pruning end, 1 roots, 1850 extra nodes, 0 pruned nodes, max_depth=10\n",
      "[15:42:47] /workspace/src/tree/updater_prune.cc:74: tree pruning end, 1 roots, 1888 extra nodes, 0 pruned nodes, max_depth=10\n",
      "[15:42:50] /workspace/src/tree/updater_prune.cc:74: tree pruning end, 1 roots, 1734 extra nodes, 0 pruned nodes, max_depth=10\n",
      "[15:42:52] /workspace/src/tree/updater_prune.cc:74: tree pruning end, 1 roots, 1936 extra nodes, 0 pruned nodes, max_depth=10\n",
      "[15:42:55] /workspace/src/tree/updater_prune.cc:74: tree pruning end, 1 roots, 1906 extra nodes, 0 pruned nodes, max_depth=10\n",
      "[15:42:58] /workspace/src/tree/updater_prune.cc:74: tree pruning end, 1 roots, 1798 extra nodes, 0 pruned nodes, max_depth=10\n",
      "[15:43:01] /workspace/src/tree/updater_prune.cc:74: tree pruning end, 1 roots, 1820 extra nodes, 0 pruned nodes, max_depth=10\n",
      "[15:43:03] /workspace/src/tree/updater_prune.cc:74: tree pruning end, 1 roots, 1774 extra nodes, 0 pruned nodes, max_depth=10\n",
      "[15:43:06] /workspace/src/tree/updater_prune.cc:74: tree pruning end, 1 roots, 1832 extra nodes, 0 pruned nodes, max_depth=10\n",
      "[15:43:08] /workspace/src/tree/updater_prune.cc:74: tree pruning end, 1 roots, 1836 extra nodes, 0 pruned nodes, max_depth=10\n",
      "[15:43:11] /workspace/src/tree/updater_prune.cc:74: tree pruning end, 1 roots, 1902 extra nodes, 0 pruned nodes, max_depth=10\n",
      "[15:43:14] /workspace/src/tree/updater_prune.cc:74: tree pruning end, 1 roots, 1918 extra nodes, 0 pruned nodes, max_depth=10\n",
      "[15:43:17] /workspace/src/tree/updater_prune.cc:74: tree pruning end, 1 roots, 1874 extra nodes, 0 pruned nodes, max_depth=10\n",
      "[15:43:19] /workspace/src/tree/updater_prune.cc:74: tree pruning end, 1 roots, 1744 extra nodes, 0 pruned nodes, max_depth=10\n",
      "[15:43:22] /workspace/src/tree/updater_prune.cc:74: tree pruning end, 1 roots, 1874 extra nodes, 0 pruned nodes, max_depth=10\n",
      "[15:43:25] /workspace/src/tree/updater_prune.cc:74: tree pruning end, 1 roots, 1826 extra nodes, 0 pruned nodes, max_depth=10\n",
      "[15:43:28] /workspace/src/tree/updater_prune.cc:74: tree pruning end, 1 roots, 1800 extra nodes, 0 pruned nodes, max_depth=10\n"
     ]
    },
    {
     "name": "stdout",
     "output_type": "stream",
     "text": [
      "[15:43:31] /workspace/src/tree/updater_prune.cc:74: tree pruning end, 1 roots, 1854 extra nodes, 0 pruned nodes, max_depth=10\n",
      "[15:43:33] /workspace/src/tree/updater_prune.cc:74: tree pruning end, 1 roots, 1850 extra nodes, 0 pruned nodes, max_depth=10\n",
      "[15:43:36] /workspace/src/tree/updater_prune.cc:74: tree pruning end, 1 roots, 1892 extra nodes, 0 pruned nodes, max_depth=10\n",
      "[15:43:39] /workspace/src/tree/updater_prune.cc:74: tree pruning end, 1 roots, 1864 extra nodes, 0 pruned nodes, max_depth=10\n",
      "[15:43:42] /workspace/src/tree/updater_prune.cc:74: tree pruning end, 1 roots, 1818 extra nodes, 0 pruned nodes, max_depth=10\n",
      "[15:43:44] /workspace/src/tree/updater_prune.cc:74: tree pruning end, 1 roots, 1864 extra nodes, 0 pruned nodes, max_depth=10\n",
      "[15:43:47] /workspace/src/tree/updater_prune.cc:74: tree pruning end, 1 roots, 1836 extra nodes, 0 pruned nodes, max_depth=10\n",
      "[15:43:50] /workspace/src/tree/updater_prune.cc:74: tree pruning end, 1 roots, 1876 extra nodes, 0 pruned nodes, max_depth=10\n",
      "[15:43:52] /workspace/src/tree/updater_prune.cc:74: tree pruning end, 1 roots, 1886 extra nodes, 0 pruned nodes, max_depth=10\n",
      "[15:43:55] /workspace/src/tree/updater_prune.cc:74: tree pruning end, 1 roots, 1920 extra nodes, 0 pruned nodes, max_depth=10\n",
      "[15:43:58] /workspace/src/tree/updater_prune.cc:74: tree pruning end, 1 roots, 1882 extra nodes, 0 pruned nodes, max_depth=10\n",
      "[15:44:00] /workspace/src/tree/updater_prune.cc:74: tree pruning end, 1 roots, 1930 extra nodes, 0 pruned nodes, max_depth=10\n",
      "[15:44:03] /workspace/src/tree/updater_prune.cc:74: tree pruning end, 1 roots, 1820 extra nodes, 0 pruned nodes, max_depth=10\n",
      "[15:44:06] /workspace/src/tree/updater_prune.cc:74: tree pruning end, 1 roots, 1832 extra nodes, 0 pruned nodes, max_depth=10\n",
      "[15:44:08] /workspace/src/tree/updater_prune.cc:74: tree pruning end, 1 roots, 1880 extra nodes, 0 pruned nodes, max_depth=10\n",
      "[15:44:11] /workspace/src/tree/updater_prune.cc:74: tree pruning end, 1 roots, 1812 extra nodes, 0 pruned nodes, max_depth=10\n",
      "[15:44:14] /workspace/src/tree/updater_prune.cc:74: tree pruning end, 1 roots, 1790 extra nodes, 0 pruned nodes, max_depth=10\n",
      "[15:44:16] /workspace/src/tree/updater_prune.cc:74: tree pruning end, 1 roots, 1802 extra nodes, 0 pruned nodes, max_depth=10\n",
      "[15:44:19] /workspace/src/tree/updater_prune.cc:74: tree pruning end, 1 roots, 1824 extra nodes, 0 pruned nodes, max_depth=10\n",
      "[15:44:22] /workspace/src/tree/updater_prune.cc:74: tree pruning end, 1 roots, 1738 extra nodes, 0 pruned nodes, max_depth=10\n",
      "[15:44:24] /workspace/src/tree/updater_prune.cc:74: tree pruning end, 1 roots, 1818 extra nodes, 0 pruned nodes, max_depth=10\n",
      "[15:44:27] /workspace/src/tree/updater_prune.cc:74: tree pruning end, 1 roots, 1678 extra nodes, 0 pruned nodes, max_depth=10\n",
      "[15:44:30] /workspace/src/tree/updater_prune.cc:74: tree pruning end, 1 roots, 1806 extra nodes, 0 pruned nodes, max_depth=10\n",
      "[15:44:32] /workspace/src/tree/updater_prune.cc:74: tree pruning end, 1 roots, 1894 extra nodes, 0 pruned nodes, max_depth=10\n",
      "[15:44:35] /workspace/src/tree/updater_prune.cc:74: tree pruning end, 1 roots, 1738 extra nodes, 0 pruned nodes, max_depth=10\n",
      "[15:44:38] /workspace/src/tree/updater_prune.cc:74: tree pruning end, 1 roots, 1840 extra nodes, 0 pruned nodes, max_depth=10\n",
      "[15:44:40] /workspace/src/tree/updater_prune.cc:74: tree pruning end, 1 roots, 1756 extra nodes, 0 pruned nodes, max_depth=10\n",
      "[15:44:43] /workspace/src/tree/updater_prune.cc:74: tree pruning end, 1 roots, 1720 extra nodes, 0 pruned nodes, max_depth=10\n",
      "[15:44:46] /workspace/src/tree/updater_prune.cc:74: tree pruning end, 1 roots, 1866 extra nodes, 0 pruned nodes, max_depth=10\n",
      "[15:44:48] /workspace/src/tree/updater_prune.cc:74: tree pruning end, 1 roots, 1856 extra nodes, 0 pruned nodes, max_depth=10\n",
      "[15:44:51] /workspace/src/tree/updater_prune.cc:74: tree pruning end, 1 roots, 1788 extra nodes, 0 pruned nodes, max_depth=10\n",
      "[15:44:54] /workspace/src/tree/updater_prune.cc:74: tree pruning end, 1 roots, 1854 extra nodes, 0 pruned nodes, max_depth=10\n",
      "[15:44:56] /workspace/src/tree/updater_prune.cc:74: tree pruning end, 1 roots, 1840 extra nodes, 0 pruned nodes, max_depth=10\n",
      "[15:44:59] /workspace/src/tree/updater_prune.cc:74: tree pruning end, 1 roots, 1826 extra nodes, 0 pruned nodes, max_depth=10\n",
      "[15:45:02] /workspace/src/tree/updater_prune.cc:74: tree pruning end, 1 roots, 1860 extra nodes, 0 pruned nodes, max_depth=10\n",
      "[15:45:05] /workspace/src/tree/updater_prune.cc:74: tree pruning end, 1 roots, 1730 extra nodes, 0 pruned nodes, max_depth=10\n",
      "[15:45:07] /workspace/src/tree/updater_prune.cc:74: tree pruning end, 1 roots, 1754 extra nodes, 0 pruned nodes, max_depth=10\n",
      "Time to train (sec):  269.2788496017456\n",
      "Time to predict (sec):  0.006171703338623047\n",
      "Training AUC: 0.8148250461677832\n"
     ]
    }
   ],
   "source": [
    "param = {\n",
    "    \"objective\":('reg:logistic' if num_class>1 else 'reg:linear')\n",
    "    , \"max_depth\":max_depth\n",
    "    , \"eta\":learn_rate\n",
    "    , \"tree_method\":\"approx\"\n",
    "    , \"subsample\":0.7\n",
    "    , \"colsample_bytree\":0.9\n",
    "    , \"min_child_weight\":5\n",
    "    , \"seed\":12345\n",
    "}\n",
    "runXGBoost(param)"
   ]
  },
  {
   "cell_type": "code",
   "execution_count": 17,
   "metadata": {},
   "outputs": [
    {
     "name": "stdout",
     "output_type": "stream",
     "text": [
      "XGBoost CPU hist\n",
      "=====================\n",
      "objective reg:logistic\n",
      "max_depth 10\n",
      "eta 0.02\n",
      "tree_method hist\n",
      "subsample 0.7\n",
      "colsample_bytree 0.9\n",
      "min_child_weight 5\n",
      "seed 12345\n",
      "=====================\n",
      "Time to create DMatrix (sec):  0.35359859466552734\n",
      "[15:45:08] Tree method is selected to be 'hist', which uses a single updater grow_fast_histmaker.\n",
      "[15:45:10] /workspace/src/tree/updater_prune.cc:74: tree pruning end, 1 roots, 1846 extra nodes, 0 pruned nodes, max_depth=10\n",
      "[15:45:10] /workspace/src/tree/updater_prune.cc:74: tree pruning end, 1 roots, 1856 extra nodes, 0 pruned nodes, max_depth=10\n",
      "[15:45:11] /workspace/src/tree/updater_prune.cc:74: tree pruning end, 1 roots, 1960 extra nodes, 0 pruned nodes, max_depth=10\n",
      "[15:45:11] /workspace/src/tree/updater_prune.cc:74: tree pruning end, 1 roots, 1874 extra nodes, 0 pruned nodes, max_depth=10\n",
      "[15:45:11] /workspace/src/tree/updater_prune.cc:74: tree pruning end, 1 roots, 1940 extra nodes, 0 pruned nodes, max_depth=10\n",
      "[15:45:12] /workspace/src/tree/updater_prune.cc:74: tree pruning end, 1 roots, 1892 extra nodes, 0 pruned nodes, max_depth=10\n",
      "[15:45:12] /workspace/src/tree/updater_prune.cc:74: tree pruning end, 1 roots, 1834 extra nodes, 0 pruned nodes, max_depth=10\n",
      "[15:45:13] /workspace/src/tree/updater_prune.cc:74: tree pruning end, 1 roots, 1966 extra nodes, 0 pruned nodes, max_depth=10\n",
      "[15:45:13] /workspace/src/tree/updater_prune.cc:74: tree pruning end, 1 roots, 1866 extra nodes, 0 pruned nodes, max_depth=10\n",
      "[15:45:13] /workspace/src/tree/updater_prune.cc:74: tree pruning end, 1 roots, 1892 extra nodes, 0 pruned nodes, max_depth=10\n",
      "[15:45:14] /workspace/src/tree/updater_prune.cc:74: tree pruning end, 1 roots, 1904 extra nodes, 0 pruned nodes, max_depth=10\n",
      "[15:45:14] /workspace/src/tree/updater_prune.cc:74: tree pruning end, 1 roots, 1886 extra nodes, 0 pruned nodes, max_depth=10\n",
      "[15:45:14] /workspace/src/tree/updater_prune.cc:74: tree pruning end, 1 roots, 1934 extra nodes, 0 pruned nodes, max_depth=10\n",
      "[15:45:15] /workspace/src/tree/updater_prune.cc:74: tree pruning end, 1 roots, 1888 extra nodes, 0 pruned nodes, max_depth=10\n",
      "[15:45:15] /workspace/src/tree/updater_prune.cc:74: tree pruning end, 1 roots, 1858 extra nodes, 0 pruned nodes, max_depth=10\n",
      "[15:45:16] /workspace/src/tree/updater_prune.cc:74: tree pruning end, 1 roots, 1942 extra nodes, 0 pruned nodes, max_depth=10\n",
      "[15:45:16] /workspace/src/tree/updater_prune.cc:74: tree pruning end, 1 roots, 1904 extra nodes, 0 pruned nodes, max_depth=10\n",
      "[15:45:16] /workspace/src/tree/updater_prune.cc:74: tree pruning end, 1 roots, 1898 extra nodes, 0 pruned nodes, max_depth=10\n",
      "[15:45:17] /workspace/src/tree/updater_prune.cc:74: tree pruning end, 1 roots, 1888 extra nodes, 0 pruned nodes, max_depth=10\n",
      "[15:45:17] /workspace/src/tree/updater_prune.cc:74: tree pruning end, 1 roots, 1960 extra nodes, 0 pruned nodes, max_depth=10\n",
      "[15:45:17] /workspace/src/tree/updater_prune.cc:74: tree pruning end, 1 roots, 1872 extra nodes, 0 pruned nodes, max_depth=10\n",
      "[15:45:18] /workspace/src/tree/updater_prune.cc:74: tree pruning end, 1 roots, 1846 extra nodes, 0 pruned nodes, max_depth=10\n",
      "[15:45:18] /workspace/src/tree/updater_prune.cc:74: tree pruning end, 1 roots, 1942 extra nodes, 0 pruned nodes, max_depth=10\n",
      "[15:45:19] /workspace/src/tree/updater_prune.cc:74: tree pruning end, 1 roots, 1916 extra nodes, 0 pruned nodes, max_depth=10\n",
      "[15:45:19] /workspace/src/tree/updater_prune.cc:74: tree pruning end, 1 roots, 1908 extra nodes, 0 pruned nodes, max_depth=10\n",
      "[15:45:19] /workspace/src/tree/updater_prune.cc:74: tree pruning end, 1 roots, 1910 extra nodes, 0 pruned nodes, max_depth=10\n",
      "[15:45:20] /workspace/src/tree/updater_prune.cc:74: tree pruning end, 1 roots, 1848 extra nodes, 0 pruned nodes, max_depth=10\n",
      "[15:45:20] /workspace/src/tree/updater_prune.cc:74: tree pruning end, 1 roots, 1874 extra nodes, 0 pruned nodes, max_depth=10\n",
      "[15:45:20] /workspace/src/tree/updater_prune.cc:74: tree pruning end, 1 roots, 1910 extra nodes, 0 pruned nodes, max_depth=10\n",
      "[15:45:21] /workspace/src/tree/updater_prune.cc:74: tree pruning end, 1 roots, 1908 extra nodes, 0 pruned nodes, max_depth=10\n",
      "[15:45:21] /workspace/src/tree/updater_prune.cc:74: tree pruning end, 1 roots, 1888 extra nodes, 0 pruned nodes, max_depth=10\n",
      "[15:45:22] /workspace/src/tree/updater_prune.cc:74: tree pruning end, 1 roots, 1888 extra nodes, 0 pruned nodes, max_depth=10\n",
      "[15:45:22] /workspace/src/tree/updater_prune.cc:74: tree pruning end, 1 roots, 1912 extra nodes, 0 pruned nodes, max_depth=10\n",
      "[15:45:22] /workspace/src/tree/updater_prune.cc:74: tree pruning end, 1 roots, 1892 extra nodes, 0 pruned nodes, max_depth=10\n",
      "[15:45:23] /workspace/src/tree/updater_prune.cc:74: tree pruning end, 1 roots, 1890 extra nodes, 0 pruned nodes, max_depth=10\n",
      "[15:45:23] /workspace/src/tree/updater_prune.cc:74: tree pruning end, 1 roots, 1904 extra nodes, 0 pruned nodes, max_depth=10\n",
      "[15:45:23] /workspace/src/tree/updater_prune.cc:74: tree pruning end, 1 roots, 1812 extra nodes, 0 pruned nodes, max_depth=10\n",
      "[15:45:24] /workspace/src/tree/updater_prune.cc:74: tree pruning end, 1 roots, 1834 extra nodes, 0 pruned nodes, max_depth=10\n",
      "[15:45:24] /workspace/src/tree/updater_prune.cc:74: tree pruning end, 1 roots, 1896 extra nodes, 0 pruned nodes, max_depth=10\n",
      "[15:45:24] /workspace/src/tree/updater_prune.cc:74: tree pruning end, 1 roots, 1916 extra nodes, 0 pruned nodes, max_depth=10\n",
      "[15:45:25] /workspace/src/tree/updater_prune.cc:74: tree pruning end, 1 roots, 1882 extra nodes, 0 pruned nodes, max_depth=10\n",
      "[15:45:25] /workspace/src/tree/updater_prune.cc:74: tree pruning end, 1 roots, 1882 extra nodes, 0 pruned nodes, max_depth=10\n",
      "[15:45:26] /workspace/src/tree/updater_prune.cc:74: tree pruning end, 1 roots, 1922 extra nodes, 0 pruned nodes, max_depth=10\n",
      "[15:45:26] /workspace/src/tree/updater_prune.cc:74: tree pruning end, 1 roots, 1890 extra nodes, 0 pruned nodes, max_depth=10\n",
      "[15:45:26] /workspace/src/tree/updater_prune.cc:74: tree pruning end, 1 roots, 1918 extra nodes, 0 pruned nodes, max_depth=10\n",
      "[15:45:27] /workspace/src/tree/updater_prune.cc:74: tree pruning end, 1 roots, 1910 extra nodes, 0 pruned nodes, max_depth=10\n",
      "[15:45:27] /workspace/src/tree/updater_prune.cc:74: tree pruning end, 1 roots, 1866 extra nodes, 0 pruned nodes, max_depth=10\n",
      "[15:45:28] /workspace/src/tree/updater_prune.cc:74: tree pruning end, 1 roots, 1906 extra nodes, 0 pruned nodes, max_depth=10\n",
      "[15:45:28] /workspace/src/tree/updater_prune.cc:74: tree pruning end, 1 roots, 1848 extra nodes, 0 pruned nodes, max_depth=10\n",
      "[15:45:28] /workspace/src/tree/updater_prune.cc:74: tree pruning end, 1 roots, 1952 extra nodes, 0 pruned nodes, max_depth=10\n",
      "[15:45:29] /workspace/src/tree/updater_prune.cc:74: tree pruning end, 1 roots, 1850 extra nodes, 0 pruned nodes, max_depth=10\n",
      "[15:45:29] /workspace/src/tree/updater_prune.cc:74: tree pruning end, 1 roots, 1806 extra nodes, 0 pruned nodes, max_depth=10\n",
      "[15:45:29] /workspace/src/tree/updater_prune.cc:74: tree pruning end, 1 roots, 1838 extra nodes, 0 pruned nodes, max_depth=10\n",
      "[15:45:30] /workspace/src/tree/updater_prune.cc:74: tree pruning end, 1 roots, 1812 extra nodes, 0 pruned nodes, max_depth=10\n",
      "[15:45:30] /workspace/src/tree/updater_prune.cc:74: tree pruning end, 1 roots, 1824 extra nodes, 0 pruned nodes, max_depth=10\n",
      "[15:45:30] /workspace/src/tree/updater_prune.cc:74: tree pruning end, 1 roots, 1852 extra nodes, 0 pruned nodes, max_depth=10\n",
      "[15:45:31] /workspace/src/tree/updater_prune.cc:74: tree pruning end, 1 roots, 1934 extra nodes, 0 pruned nodes, max_depth=10\n",
      "[15:45:31] /workspace/src/tree/updater_prune.cc:74: tree pruning end, 1 roots, 1936 extra nodes, 0 pruned nodes, max_depth=10\n",
      "[15:45:31] /workspace/src/tree/updater_prune.cc:74: tree pruning end, 1 roots, 1846 extra nodes, 0 pruned nodes, max_depth=10\n",
      "[15:45:32] /workspace/src/tree/updater_prune.cc:74: tree pruning end, 1 roots, 1768 extra nodes, 0 pruned nodes, max_depth=10\n",
      "[15:45:32] /workspace/src/tree/updater_prune.cc:74: tree pruning end, 1 roots, 1882 extra nodes, 0 pruned nodes, max_depth=10\n",
      "[15:45:32] /workspace/src/tree/updater_prune.cc:74: tree pruning end, 1 roots, 1830 extra nodes, 0 pruned nodes, max_depth=10\n",
      "[15:45:33] /workspace/src/tree/updater_prune.cc:74: tree pruning end, 1 roots, 1812 extra nodes, 0 pruned nodes, max_depth=10\n"
     ]
    },
    {
     "name": "stdout",
     "output_type": "stream",
     "text": [
      "[15:45:33] /workspace/src/tree/updater_prune.cc:74: tree pruning end, 1 roots, 1912 extra nodes, 0 pruned nodes, max_depth=10\n",
      "[15:45:33] /workspace/src/tree/updater_prune.cc:74: tree pruning end, 1 roots, 1898 extra nodes, 0 pruned nodes, max_depth=10\n",
      "[15:45:34] /workspace/src/tree/updater_prune.cc:74: tree pruning end, 1 roots, 1902 extra nodes, 0 pruned nodes, max_depth=10\n",
      "[15:45:34] /workspace/src/tree/updater_prune.cc:74: tree pruning end, 1 roots, 1892 extra nodes, 0 pruned nodes, max_depth=10\n",
      "[15:45:35] /workspace/src/tree/updater_prune.cc:74: tree pruning end, 1 roots, 1800 extra nodes, 0 pruned nodes, max_depth=10\n",
      "[15:45:35] /workspace/src/tree/updater_prune.cc:74: tree pruning end, 1 roots, 1868 extra nodes, 0 pruned nodes, max_depth=10\n",
      "[15:45:35] /workspace/src/tree/updater_prune.cc:74: tree pruning end, 1 roots, 1872 extra nodes, 0 pruned nodes, max_depth=10\n",
      "[15:45:36] /workspace/src/tree/updater_prune.cc:74: tree pruning end, 1 roots, 1892 extra nodes, 0 pruned nodes, max_depth=10\n",
      "[15:45:36] /workspace/src/tree/updater_prune.cc:74: tree pruning end, 1 roots, 1882 extra nodes, 0 pruned nodes, max_depth=10\n",
      "[15:45:36] /workspace/src/tree/updater_prune.cc:74: tree pruning end, 1 roots, 1912 extra nodes, 0 pruned nodes, max_depth=10\n",
      "[15:45:37] /workspace/src/tree/updater_prune.cc:74: tree pruning end, 1 roots, 1920 extra nodes, 0 pruned nodes, max_depth=10\n",
      "[15:45:37] /workspace/src/tree/updater_prune.cc:74: tree pruning end, 1 roots, 1926 extra nodes, 0 pruned nodes, max_depth=10\n",
      "[15:45:37] /workspace/src/tree/updater_prune.cc:74: tree pruning end, 1 roots, 1842 extra nodes, 0 pruned nodes, max_depth=10\n",
      "[15:45:38] /workspace/src/tree/updater_prune.cc:74: tree pruning end, 1 roots, 1886 extra nodes, 0 pruned nodes, max_depth=10\n",
      "[15:45:38] /workspace/src/tree/updater_prune.cc:74: tree pruning end, 1 roots, 1920 extra nodes, 0 pruned nodes, max_depth=10\n",
      "[15:45:38] /workspace/src/tree/updater_prune.cc:74: tree pruning end, 1 roots, 1906 extra nodes, 0 pruned nodes, max_depth=10\n",
      "[15:45:39] /workspace/src/tree/updater_prune.cc:74: tree pruning end, 1 roots, 1862 extra nodes, 0 pruned nodes, max_depth=10\n",
      "[15:45:39] /workspace/src/tree/updater_prune.cc:74: tree pruning end, 1 roots, 1812 extra nodes, 0 pruned nodes, max_depth=10\n",
      "[15:45:39] /workspace/src/tree/updater_prune.cc:74: tree pruning end, 1 roots, 1858 extra nodes, 0 pruned nodes, max_depth=10\n",
      "[15:45:40] /workspace/src/tree/updater_prune.cc:74: tree pruning end, 1 roots, 1788 extra nodes, 0 pruned nodes, max_depth=10\n",
      "[15:45:40] /workspace/src/tree/updater_prune.cc:74: tree pruning end, 1 roots, 1898 extra nodes, 0 pruned nodes, max_depth=10\n",
      "[15:45:40] /workspace/src/tree/updater_prune.cc:74: tree pruning end, 1 roots, 1704 extra nodes, 0 pruned nodes, max_depth=10\n",
      "[15:45:41] /workspace/src/tree/updater_prune.cc:74: tree pruning end, 1 roots, 1838 extra nodes, 0 pruned nodes, max_depth=10\n",
      "[15:45:41] /workspace/src/tree/updater_prune.cc:74: tree pruning end, 1 roots, 1894 extra nodes, 0 pruned nodes, max_depth=10\n",
      "[15:45:41] /workspace/src/tree/updater_prune.cc:74: tree pruning end, 1 roots, 1782 extra nodes, 0 pruned nodes, max_depth=10\n",
      "[15:45:42] /workspace/src/tree/updater_prune.cc:74: tree pruning end, 1 roots, 1808 extra nodes, 0 pruned nodes, max_depth=10\n",
      "[15:45:42] /workspace/src/tree/updater_prune.cc:74: tree pruning end, 1 roots, 1752 extra nodes, 0 pruned nodes, max_depth=10\n",
      "[15:45:42] /workspace/src/tree/updater_prune.cc:74: tree pruning end, 1 roots, 1752 extra nodes, 0 pruned nodes, max_depth=10\n",
      "[15:45:43] /workspace/src/tree/updater_prune.cc:74: tree pruning end, 1 roots, 1898 extra nodes, 0 pruned nodes, max_depth=10\n",
      "[15:45:43] /workspace/src/tree/updater_prune.cc:74: tree pruning end, 1 roots, 1850 extra nodes, 0 pruned nodes, max_depth=10\n",
      "[15:45:43] /workspace/src/tree/updater_prune.cc:74: tree pruning end, 1 roots, 1840 extra nodes, 0 pruned nodes, max_depth=10\n",
      "[15:45:44] /workspace/src/tree/updater_prune.cc:74: tree pruning end, 1 roots, 1828 extra nodes, 0 pruned nodes, max_depth=10\n",
      "[15:45:44] /workspace/src/tree/updater_prune.cc:74: tree pruning end, 1 roots, 1880 extra nodes, 0 pruned nodes, max_depth=10\n",
      "[15:45:44] /workspace/src/tree/updater_prune.cc:74: tree pruning end, 1 roots, 1826 extra nodes, 0 pruned nodes, max_depth=10\n",
      "[15:45:45] /workspace/src/tree/updater_prune.cc:74: tree pruning end, 1 roots, 1882 extra nodes, 0 pruned nodes, max_depth=10\n",
      "[15:45:45] /workspace/src/tree/updater_prune.cc:74: tree pruning end, 1 roots, 1826 extra nodes, 0 pruned nodes, max_depth=10\n",
      "[15:45:45] /workspace/src/tree/updater_prune.cc:74: tree pruning end, 1 roots, 1792 extra nodes, 0 pruned nodes, max_depth=10\n",
      "Time to train (sec):  37.29100728034973\n",
      "Time to predict (sec):  0.0061724185943603516\n",
      "Training AUC: 0.8139589634616876\n"
     ]
    }
   ],
   "source": [
    "param = {\n",
    "    \"objective\":('reg:logistic' if num_class>1 else 'reg:linear')\n",
    "    , \"max_depth\":max_depth\n",
    "    , \"eta\":learn_rate\n",
    "    , \"tree_method\":\"hist\"\n",
    "    , \"subsample\":0.7\n",
    "    , \"colsample_bytree\":0.9\n",
    "    , \"min_child_weight\":5\n",
    "    , \"seed\":12345\n",
    "}\n",
    "runXGBoost(param)"
   ]
  },
  {
   "cell_type": "code",
   "execution_count": 18,
   "metadata": {
    "scrolled": true
   },
   "outputs": [
    {
     "name": "stdout",
     "output_type": "stream",
     "text": [
      "XGBoost GPU exact \n",
      "=====================\n",
      "objective reg:logistic\n",
      "max_depth 10\n",
      "eta 0.02\n",
      "tree_method exact\n",
      "updater grow_gpu\n",
      "subsample 0.7\n",
      "colsample_bytree 0.9\n",
      "min_child_weight 5\n",
      "seed 12345\n",
      "=====================\n",
      "Time to create DMatrix (sec):  0.3510422706604004\n",
      "Time to train (sec):  99.93525171279907\n",
      "Time to predict (sec):  0.006177186965942383\n",
      "Training AUC: 0.8132433988279613\n"
     ]
    }
   ],
   "source": [
    "param = {\n",
    "    \"objective\":('reg:logistic' if num_class>1 else 'reg:linear')\n",
    "    , \"max_depth\":max_depth\n",
    "    , \"eta\":learn_rate\n",
    "    , \"tree_method\":\"exact\"\n",
    "    , \"updater\":\"grow_gpu\"\n",
    "    , \"subsample\":0.7\n",
    "    , \"colsample_bytree\":0.9\n",
    "    , \"min_child_weight\":5\n",
    "    , \"seed\":12345\n",
    "}\n",
    "runXGBoost(param)"
   ]
  },
  {
   "cell_type": "code",
   "execution_count": 19,
   "metadata": {
    "scrolled": false
   },
   "outputs": [
    {
     "name": "stdout",
     "output_type": "stream",
     "text": [
      "XGBoost GPU hist \n",
      "=====================\n",
      "objective reg:logistic\n",
      "max_depth 10\n",
      "eta 0.02\n",
      "tree_method exact\n",
      "updater grow_gpu_hist\n",
      "n_gpus 1\n",
      "subsample 0.7\n",
      "colsample_bytree 0.9\n",
      "min_child_weight 5\n",
      "seed 12345\n",
      "=====================\n",
      "Time to create DMatrix (sec):  0.3510918617248535\n",
      "Time to train (sec):  13.092988967895508\n",
      "Time to predict (sec):  0.008798837661743164\n",
      "Training AUC: 0.8133750285224085\n"
     ]
    }
   ],
   "source": [
    "param = {\n",
    "    \"objective\":('reg:logistic' if num_class>1 else 'reg:linear')\n",
    "    , \"max_depth\":max_depth\n",
    "    , \"eta\":learn_rate\n",
    "    , \"tree_method\":\"exact\"\n",
    "    , \"updater\":\"grow_gpu_hist\"\n",
    "    , \"n_gpus\":1\n",
    "    , \"subsample\":0.7\n",
    "    , \"colsample_bytree\":0.9\n",
    "    , \"min_child_weight\":5\n",
    "    , \"seed\":12345\n",
    "}\n",
    "runXGBoost(param)"
   ]
  },
  {
   "cell_type": "code",
   "execution_count": 20,
   "metadata": {
    "scrolled": false
   },
   "outputs": [
    {
     "data": {
      "text/html": [
       "<div>\n",
       "<style scoped>\n",
       "    .dataframe tbody tr th:only-of-type {\n",
       "        vertical-align: middle;\n",
       "    }\n",
       "\n",
       "    .dataframe tbody tr th {\n",
       "        vertical-align: top;\n",
       "    }\n",
       "\n",
       "    .dataframe thead th {\n",
       "        text-align: right;\n",
       "    }\n",
       "</style>\n",
       "<table border=\"1\" class=\"dataframe\">\n",
       "  <thead>\n",
       "    <tr style=\"text-align: right;\">\n",
       "      <th></th>\n",
       "      <th>algorithm</th>\n",
       "      <th>dmatrix time</th>\n",
       "      <th>training time</th>\n",
       "      <th>scoring time</th>\n",
       "      <th>training AUC</th>\n",
       "    </tr>\n",
       "  </thead>\n",
       "  <tbody>\n",
       "    <tr>\n",
       "      <th>4</th>\n",
       "      <td>XGBoost GPU hist</td>\n",
       "      <td>0.351092</td>\n",
       "      <td>13.092989</td>\n",
       "      <td>0.008799</td>\n",
       "      <td>0.813375</td>\n",
       "    </tr>\n",
       "    <tr>\n",
       "      <th>2</th>\n",
       "      <td>XGBoost CPU hist</td>\n",
       "      <td>0.353599</td>\n",
       "      <td>37.291007</td>\n",
       "      <td>0.006172</td>\n",
       "      <td>0.813959</td>\n",
       "    </tr>\n",
       "    <tr>\n",
       "      <th>3</th>\n",
       "      <td>XGBoost GPU exact</td>\n",
       "      <td>0.351042</td>\n",
       "      <td>99.935252</td>\n",
       "      <td>0.006177</td>\n",
       "      <td>0.813243</td>\n",
       "    </tr>\n",
       "    <tr>\n",
       "      <th>1</th>\n",
       "      <td>XGBoost CPU approx</td>\n",
       "      <td>0.351334</td>\n",
       "      <td>269.278850</td>\n",
       "      <td>0.006172</td>\n",
       "      <td>0.814825</td>\n",
       "    </tr>\n",
       "    <tr>\n",
       "      <th>0</th>\n",
       "      <td>XGBoost CPU exact</td>\n",
       "      <td>0.374161</td>\n",
       "      <td>273.931910</td>\n",
       "      <td>0.006193</td>\n",
       "      <td>0.814825</td>\n",
       "    </tr>\n",
       "  </tbody>\n",
       "</table>\n",
       "</div>"
      ],
      "text/plain": [
       "            algorithm  dmatrix time  training time  scoring time  training AUC\n",
       "4   XGBoost GPU hist       0.351092      13.092989      0.008799      0.813375\n",
       "2    XGBoost CPU hist      0.353599      37.291007      0.006172      0.813959\n",
       "3  XGBoost GPU exact       0.351042      99.935252      0.006177      0.813243\n",
       "1  XGBoost CPU approx      0.351334     269.278850      0.006172      0.814825\n",
       "0   XGBoost CPU exact      0.374161     273.931910      0.006193      0.814825"
      ]
     },
     "execution_count": 20,
     "metadata": {},
     "output_type": "execute_result"
    }
   ],
   "source": [
    "data = pd.DataFrame({'algorithm'  :plot_labels,\n",
    "                     'dmatrix time':dmatrix_times,\n",
    "                     'training time':train_times,\n",
    "                     'scoring time':score_times,\n",
    "                     'training AUC' :valid_aucs}).sort_values(by=\"training time\")\n",
    "data"
   ]
  },
  {
   "cell_type": "code",
   "execution_count": 21,
   "metadata": {
    "scrolled": false
   },
   "outputs": [
    {
     "data": {
      "text/plain": [
       "<matplotlib.axes._subplots.AxesSubplot at 0x7fe5bdc008d0>"
      ]
     },
     "execution_count": 21,
     "metadata": {},
     "output_type": "execute_result"
    },
    {
     "data": {
      "image/png": "[encoded data removed]",
      "text/plain": [
       "<Figure size 432x288 with 1 Axes>"
      ]
     },
     "metadata": {
      "needs_background": "light"
     },
     "output_type": "display_data"
    },
    {
     "data": {
      "image/png": "[encoded data removed]",
      "text/plain": [
       "<Figure size 432x288 with 1 Axes>"
      ]
     },
     "metadata": {
      "needs_background": "light"
     },
     "output_type": "display_data"
    }
   ],
   "source": [
    "data.plot(label=\"training time\",kind='barh',x='algorithm',y='training time')\n",
    "data.plot(title=\"training AUC\",kind='barh',x='algorithm',y='training AUC',legend=False)"
   ]
  },
  {
   "cell_type": "markdown",
   "metadata": {},
   "source": [
    "## Now call XGBoost from H2O"
   ]
  },
  {
   "cell_type": "code",
   "execution_count": 22,
   "metadata": {},
   "outputs": [
    {
     "name": "stdout",
     "output_type": "stream",
     "text": [
      "Checking whether there is an H2O instance running at http://172.17.0.2:54321. connected.\n"
     ]
    },
    {
     "data": {
      "text/html": [
       "<div style=\"overflow:auto\"><table style=\"width:50%\"><tr><td>H2O cluster uptime:</td>\n",
       "<td>21 mins 41 secs</td></tr>\n",
       "<tr><td>H2O cluster timezone:</td>\n",
       "<td>Etc/UTC</td></tr>\n",
       "<tr><td>H2O data parsing timezone:</td>\n",
       "<td>UTC</td></tr>\n",
       "<tr><td>H2O cluster version:</td>\n",
       "<td>3.20.0.7</td></tr>\n",
       "<tr><td>H2O cluster version age:</td>\n",
       "<td>5 days </td></tr>\n",
       "<tr><td>H2O cluster name:</td>\n",
       "<td>root</td></tr>\n",
       "<tr><td>H2O cluster total nodes:</td>\n",
       "<td>1</td></tr>\n",
       "<tr><td>H2O cluster free memory:</td>\n",
       "<td>3.027 Gb</td></tr>\n",
       "<tr><td>H2O cluster total cores:</td>\n",
       "<td>8</td></tr>\n",
       "<tr><td>H2O cluster allowed cores:</td>\n",
       "<td>8</td></tr>\n",
       "<tr><td>H2O cluster status:</td>\n",
       "<td>locked, healthy</td></tr>\n",
       "<tr><td>H2O connection url:</td>\n",
       "<td>http://172.17.0.2:54321</td></tr>\n",
       "<tr><td>H2O connection proxy:</td>\n",
       "<td>None</td></tr>\n",
       "<tr><td>H2O internal security:</td>\n",
       "<td>False</td></tr>\n",
       "<tr><td>H2O API Extensions:</td>\n",
       "<td>XGBoost, Algos, AutoML, Core V3, Core V4</td></tr>\n",
       "<tr><td>Python version:</td>\n",
       "<td>3.6.6 final</td></tr></table></div>"
      ],
      "text/plain": [
       "--------------------------  ----------------------------------------\n",
       "H2O cluster uptime:         21 mins 41 secs\n",
       "H2O cluster timezone:       Etc/UTC\n",
       "H2O data parsing timezone:  UTC\n",
       "H2O cluster version:        3.20.0.7\n",
       "H2O cluster version age:    5 days\n",
       "H2O cluster name:           root\n",
       "H2O cluster total nodes:    1\n",
       "H2O cluster free memory:    3.027 Gb\n",
       "H2O cluster total cores:    8\n",
       "H2O cluster allowed cores:  8\n",
       "H2O cluster status:         locked, healthy\n",
       "H2O connection url:         http://172.17.0.2:54321\n",
       "H2O connection proxy:\n",
       "H2O internal security:      False\n",
       "H2O API Extensions:         XGBoost, Algos, AutoML, Core V3, Core V4\n",
       "Python version:             3.6.6 final\n",
       "--------------------------  ----------------------------------------"
      ]
     },
     "metadata": {},
     "output_type": "display_data"
    },
    {
     "name": "stdout",
     "output_type": "stream",
     "text": [
      "Parse progress: |█████████████████████████████████████████████████████████| 100%\n",
      "Time to parse by H2O (sec):  4.885279417037964\n"
     ]
    }
   ],
   "source": [
    "import h2o\n",
    "from h2o.estimators import H2OXGBoostEstimator\n",
    "h2o.init(ip=\"172.17.0.2\", port=54321)\n",
    "path = \"/data/higgs_head_2M.csv\"\n",
    "\n",
    "\n",
    "t_start = time.time()\n",
    "df_hex = h2o.import_file(path)\n",
    "print(\"Time to parse by H2O (sec): \", time.time() - t_start)\n",
    "\n",
    "trainhex = df_hex\n",
    "trainhex[0] = (trainhex[0]).asfactor()"
   ]
  },
  {
   "cell_type": "code",
   "execution_count": 23,
   "metadata": {},
   "outputs": [],
   "source": [
    "def runH2OXGBoost(param):\n",
    "    label = \"H2O XGBoost \" \\\n",
    "    + (\"GPU\" if \"backend\" in param.keys() and \"gpu\"==param[\"backend\"] else \"CPU\") \\\n",
    "    + (\" \" + param[\"tree_method\"] if \"tree_method\" in param.keys() else \"\")\n",
    "    print(label)\n",
    "    print(\"=====================\")\n",
    "    for k, v in param.items():\n",
    "        print(k, v)\n",
    "    print(\"=====================\")\n",
    "        \n",
    "    t_start = time.time()\n",
    "    model = H2OXGBoostEstimator(**param)\n",
    "    model.train(x = list(range(1,trainhex.shape[1])), y = 0, training_frame = trainhex)\n",
    "    tt = time.time() - t_start\n",
    "    print(\"Time to train (sec): \", tt)\n",
    "    h2o_train_times.append(tt)\n",
    "\n",
    "    t_start = time.time()\n",
    "    preds = model.predict(trainhex)[:,2]\n",
    "    tt = time.time() - t_start\n",
    "    print(\"Time to predict (sec): \", tt)\n",
    "    h2o_score_times.append(tt)\n",
    "\n",
    "    preds = h2o.as_list(preds)\n",
    "    labels = train_target.values\n",
    "    auc = metrics.roc_auc_score(labels, preds)\n",
    "    print(\"Training AUC:\", auc)\n",
    "\n",
    "    h2o_valid_aucs.append(auc)\n",
    "    h2o_plot_labels.append(label)\n",
    "    \n",
    "    #pd.DataFrame(model.varimp(),columns=[\"Feature\",\"\",\"Importance\",\"\"]).head(10).plot(label='importance',kind=\"barh\",x=\"Feature\",y=\"Importance\").invert_yaxis()"
   ]
  },
  {
   "cell_type": "code",
   "execution_count": 24,
   "metadata": {},
   "outputs": [],
   "source": [
    "h2o_valid_aucs = []\n",
    "h2o_train_times = []\n",
    "h2o_score_times = []\n",
    "h2o_plot_labels = []"
   ]
  },
  {
   "cell_type": "code",
   "execution_count": 25,
   "metadata": {},
   "outputs": [
    {
     "name": "stdout",
     "output_type": "stream",
     "text": [
      "H2O XGBoost CPU exact\n",
      "=====================\n",
      "ntrees 100\n",
      "max_depth 10\n",
      "eta 0.02\n",
      "subsample 0.7\n",
      "colsample_bytree 0.9\n",
      "min_child_weight 5\n",
      "seed 12345\n",
      "score_tree_interval 100\n",
      "backend cpu\n",
      "tree_method exact\n",
      "=====================\n",
      "xgboost Model Build progress: |███████████████████████████████████████████| 100%\n",
      "Time to train (sec):  288.1534354686737\n",
      "xgboost prediction progress: |████████████████████████████████████████████| 100%\n",
      "Time to predict (sec):  4.503039836883545\n",
      "Training AUC: 0.8201899729303845\n"
     ]
    }
   ],
   "source": [
    "param = {\n",
    "    \"ntrees\":num_round\n",
    "    , \"max_depth\":max_depth\n",
    "    , \"eta\":learn_rate\n",
    "    , \"subsample\":0.7\n",
    "    , \"colsample_bytree\":0.9\n",
    "    , \"min_child_weight\":5\n",
    "    , \"seed\":12345\n",
    "    , \"score_tree_interval\":num_round\n",
    "    , \"backend\":\"cpu\"\n",
    "    , \"tree_method\":\"exact\"\n",
    "}\n",
    "runH2OXGBoost(param)"
   ]
  },
  {
   "cell_type": "code",
   "execution_count": 26,
   "metadata": {},
   "outputs": [
    {
     "name": "stdout",
     "output_type": "stream",
     "text": [
      "H2O XGBoost CPU approx\n",
      "=====================\n",
      "ntrees 100\n",
      "max_depth 10\n",
      "eta 0.02\n",
      "subsample 0.7\n",
      "colsample_bytree 0.9\n",
      "min_child_weight 5\n",
      "seed 12345\n",
      "score_tree_interval 100\n",
      "backend cpu\n",
      "tree_method approx\n",
      "=====================\n",
      "xgboost Model Build progress: |███████████████████████████████████████████| 100%\n",
      "Time to train (sec):  165.13393354415894\n",
      "xgboost prediction progress: |████████████████████████████████████████████| 100%\n",
      "Time to predict (sec):  4.491177320480347\n",
      "Training AUC: 0.8182765188341345\n"
     ]
    }
   ],
   "source": [
    "param = {\n",
    "    \"ntrees\":num_round\n",
    "    , \"max_depth\":max_depth\n",
    "    , \"eta\":learn_rate\n",
    "    , \"subsample\":0.7\n",
    "    , \"colsample_bytree\":0.9\n",
    "    , \"min_child_weight\":5\n",
    "    , \"seed\":12345\n",
    "    , \"score_tree_interval\":num_round\n",
    "    , \"backend\":\"cpu\"\n",
    "    , \"tree_method\":\"approx\"\n",
    "}\n",
    "runH2OXGBoost(param)"
   ]
  },
  {
   "cell_type": "code",
   "execution_count": 27,
   "metadata": {},
   "outputs": [
    {
     "name": "stdout",
     "output_type": "stream",
     "text": [
      "H2O XGBoost CPU hist\n",
      "=====================\n",
      "ntrees 100\n",
      "max_depth 10\n",
      "eta 0.02\n",
      "subsample 0.7\n",
      "colsample_bytree 0.9\n",
      "min_child_weight 5\n",
      "seed 12345\n",
      "score_tree_interval 100\n",
      "backend cpu\n",
      "tree_method hist\n",
      "=====================\n",
      "xgboost Model Build progress: |███████████████████████████████████████████| 100%\n",
      "Time to train (sec):  54.937657833099365\n",
      "xgboost prediction progress: |████████████████████████████████████████████| 100%\n",
      "Time to predict (sec):  4.5335564613342285\n",
      "Training AUC: 0.8193356926494528\n"
     ]
    }
   ],
   "source": [
    "param = {\n",
    "    \"ntrees\":num_round\n",
    "    , \"max_depth\":max_depth\n",
    "    , \"eta\":learn_rate\n",
    "    , \"subsample\":0.7\n",
    "    , \"colsample_bytree\":0.9\n",
    "    , \"min_child_weight\":5\n",
    "    , \"seed\":12345\n",
    "    , \"score_tree_interval\":num_round\n",
    "    , \"backend\":\"cpu\"\n",
    "    , \"tree_method\":\"hist\"\n",
    "}\n",
    "runH2OXGBoost(param)"
   ]
  },
  {
   "cell_type": "code",
   "execution_count": 28,
   "metadata": {},
   "outputs": [
    {
     "name": "stdout",
     "output_type": "stream",
     "text": [
      "H2O XGBoost GPU exact\n",
      "=====================\n",
      "ntrees 100\n",
      "max_depth 10\n",
      "learn_rate 0.02\n",
      "sample_rate 0.7\n",
      "col_sample_rate_per_tree 0.9\n",
      "min_rows 5\n",
      "seed 12345\n",
      "score_tree_interval 100\n",
      "backend gpu\n",
      "tree_method exact\n",
      "=====================\n",
      "xgboost Model Build progress: |███████████████████████████████████████████| 100%\n",
      "Time to train (sec):  112.73951983451843\n",
      "xgboost prediction progress: |████████████████████████████████████████████| 100%\n",
      "Time to predict (sec):  4.488598346710205\n",
      "Training AUC: 0.8192764465727664\n"
     ]
    }
   ],
   "source": [
    "param = {\n",
    "    \"ntrees\":num_round\n",
    "    , \"max_depth\":max_depth\n",
    "    , \"learn_rate\":learn_rate\n",
    "    , \"sample_rate\":0.7\n",
    "    , \"col_sample_rate_per_tree\":0.9\n",
    "    , \"min_rows\":5\n",
    "    , \"seed\":12345\n",
    "    , \"score_tree_interval\":num_round\n",
    "    , \"backend\":\"gpu\"\n",
    "    , \"tree_method\":\"exact\"\n",
    "}\n",
    "runH2OXGBoost(param)"
   ]
  },
  {
   "cell_type": "code",
   "execution_count": 29,
   "metadata": {},
   "outputs": [
    {
     "name": "stdout",
     "output_type": "stream",
     "text": [
      "H2O XGBoost GPU hist\n",
      "=====================\n",
      "ntrees 100\n",
      "max_depth 10\n",
      "learn_rate 0.02\n",
      "sample_rate 0.7\n",
      "col_sample_rate_per_tree 0.9\n",
      "min_rows 5\n",
      "seed 12345\n",
      "score_tree_interval 100\n",
      "backend gpu\n",
      "tree_method hist\n",
      "=====================\n",
      "xgboost Model Build progress: |███████████████████████████████████████████| 100%\n",
      "Time to train (sec):  17.992936372756958\n",
      "xgboost prediction progress: |████████████████████████████████████████████| 100%\n",
      "Time to predict (sec):  4.478320837020874\n",
      "Training AUC: 0.819560054254743\n"
     ]
    }
   ],
   "source": [
    "param = {\n",
    "    \"ntrees\":num_round\n",
    "    , \"max_depth\":max_depth\n",
    "    , \"learn_rate\":learn_rate\n",
    "    , \"sample_rate\":0.7\n",
    "    , \"col_sample_rate_per_tree\":0.9\n",
    "    , \"min_rows\":5\n",
    "    , \"seed\":12345\n",
    "    , \"score_tree_interval\":num_round\n",
    "    , \"backend\":\"gpu\"\n",
    "    , \"tree_method\":\"hist\"\n",
    "}\n",
    "runH2OXGBoost(param)"
   ]
  },
  {
   "cell_type": "markdown",
   "metadata": {},
   "source": [
    "## H2O GBM (CPU)"
   ]
  },
  {
   "cell_type": "code",
   "execution_count": 30,
   "metadata": {},
   "outputs": [
    {
     "name": "stdout",
     "output_type": "stream",
     "text": [
      "gbm Model Build progress: |███████████████████████████████████████████████| 100%\n",
      "Time to train (sec):  134.51643776893616\n",
      "gbm prediction progress: |████████████████████████████████████████████████| 100%\n",
      "Time to predict (sec):  10.75105357170105\n",
      "AUC: 0.8183965068555489\n"
     ]
    }
   ],
   "source": [
    "from h2o.estimators.gbm import H2OGradientBoostingEstimator\n",
    "param = {\n",
    "      \"ntrees\":num_round\n",
    "    , \"max_depth\":max_depth\n",
    "    , \"learn_rate\":learn_rate\n",
    "    , \"sample_rate\":0.7\n",
    "    , \"col_sample_rate_per_tree\":0.9\n",
    "    , \"min_rows\":5\n",
    "    , \"seed\":12345\n",
    "    , \"score_tree_interval\":num_round\n",
    "}\n",
    "\n",
    "t_start = time.time()\n",
    "model = H2OGradientBoostingEstimator(**param)\n",
    "model.train(x = list(range(1,trainhex.shape[1])), y = 0, training_frame = trainhex)\n",
    "tt = time.time() - t_start\n",
    "print(\"Time to train (sec): \", tt)\n",
    "h2o_train_times.append(tt)\n",
    "\n",
    "t_start = time.time()\n",
    "preds = model.predict(trainhex)[:,2]\n",
    "tt = time.time() - t_start\n",
    "print(\"Time to predict (sec): \", tt)\n",
    "h2o_score_times.append(tt)\n",
    "\n",
    "preds = h2o.as_list(preds)\n",
    "labels = train_target.values\n",
    "auc = metrics.roc_auc_score(labels, preds)\n",
    "print(\"AUC:\", auc)\n",
    "\n",
    "h2o_valid_aucs.append(auc)\n",
    "h2o_plot_labels.append(\"H2O GBM CPU\")"
   ]
  },
  {
   "cell_type": "code",
   "execution_count": 31,
   "metadata": {},
   "outputs": [
    {
     "data": {
      "text/html": [
       "<div>\n",
       "<style scoped>\n",
       "    .dataframe tbody tr th:only-of-type {\n",
       "        vertical-align: middle;\n",
       "    }\n",
       "\n",
       "    .dataframe tbody tr th {\n",
       "        vertical-align: top;\n",
       "    }\n",
       "\n",
       "    .dataframe thead th {\n",
       "        text-align: right;\n",
       "    }\n",
       "</style>\n",
       "<table border=\"1\" class=\"dataframe\">\n",
       "  <thead>\n",
       "    <tr style=\"text-align: right;\">\n",
       "      <th></th>\n",
       "      <th>algorithm</th>\n",
       "      <th>training time</th>\n",
       "      <th>scoring time</th>\n",
       "      <th>training AUC</th>\n",
       "    </tr>\n",
       "  </thead>\n",
       "  <tbody>\n",
       "    <tr>\n",
       "      <th>4</th>\n",
       "      <td>H2O XGBoost GPU hist</td>\n",
       "      <td>17.992936</td>\n",
       "      <td>4.478321</td>\n",
       "      <td>0.819560</td>\n",
       "    </tr>\n",
       "    <tr>\n",
       "      <th>2</th>\n",
       "      <td>H2O XGBoost CPU hist</td>\n",
       "      <td>54.937658</td>\n",
       "      <td>4.533556</td>\n",
       "      <td>0.819336</td>\n",
       "    </tr>\n",
       "    <tr>\n",
       "      <th>3</th>\n",
       "      <td>H2O XGBoost GPU exact</td>\n",
       "      <td>112.739520</td>\n",
       "      <td>4.488598</td>\n",
       "      <td>0.819276</td>\n",
       "    </tr>\n",
       "    <tr>\n",
       "      <th>5</th>\n",
       "      <td>H2O GBM CPU</td>\n",
       "      <td>134.516438</td>\n",
       "      <td>10.751054</td>\n",
       "      <td>0.818397</td>\n",
       "    </tr>\n",
       "    <tr>\n",
       "      <th>1</th>\n",
       "      <td>H2O XGBoost CPU approx</td>\n",
       "      <td>165.133934</td>\n",
       "      <td>4.491177</td>\n",
       "      <td>0.818277</td>\n",
       "    </tr>\n",
       "    <tr>\n",
       "      <th>0</th>\n",
       "      <td>H2O XGBoost CPU exact</td>\n",
       "      <td>288.153435</td>\n",
       "      <td>4.503040</td>\n",
       "      <td>0.820190</td>\n",
       "    </tr>\n",
       "  </tbody>\n",
       "</table>\n",
       "</div>"
      ],
      "text/plain": [
       "                algorithm  training time  scoring time  training AUC\n",
       "4    H2O XGBoost GPU hist      17.992936      4.478321      0.819560\n",
       "2    H2O XGBoost CPU hist      54.937658      4.533556      0.819336\n",
       "3   H2O XGBoost GPU exact     112.739520      4.488598      0.819276\n",
       "5             H2O GBM CPU     134.516438     10.751054      0.818397\n",
       "1  H2O XGBoost CPU approx     165.133934      4.491177      0.818277\n",
       "0   H2O XGBoost CPU exact     288.153435      4.503040      0.820190"
      ]
     },
     "execution_count": 31,
     "metadata": {},
     "output_type": "execute_result"
    }
   ],
   "source": [
    "data = pd.DataFrame({'algorithm'  :h2o_plot_labels,\n",
    "                     'training time':h2o_train_times,\n",
    "                     'scoring time':h2o_score_times,\n",
    "                     'training AUC' :h2o_valid_aucs}).sort_values(by=\"training time\")\n",
    "data"
   ]
  },
  {
   "cell_type": "code",
   "execution_count": 32,
   "metadata": {},
   "outputs": [
    {
     "data": {
      "text/plain": [
       "<matplotlib.axes._subplots.AxesSubplot at 0x7fe59ea21390>"
      ]
     },
     "execution_count": 32,
     "metadata": {},
     "output_type": "execute_result"
    },
    {
     "data": {
      "image/png": "[encoded data removed]",
      "text/plain": [
       "<Figure size 432x288 with 1 Axes>"
      ]
     },
     "metadata": {
      "needs_background": "light"
     },
     "output_type": "display_data"
    },
    {
     "data": {
      "image/png": "[encoded data removed]",
      "text/plain": [
       "<Figure size 432x288 with 1 Axes>"
      ]
     },
     "metadata": {
      "needs_background": "light"
     },
     "output_type": "display_data"
    }
   ],
   "source": [
    "data.plot(label=\"DMatrix + training time\",kind='barh',x='algorithm',y='training time')\n",
    "data.plot(title=\"training AUC\",kind='barh',x='algorithm',y='training AUC',legend=False)"
   ]
  },
  {
   "cell_type": "markdown",
   "metadata": {},
   "source": [
    "### Summary: Fastest GPU algorithm (XGBoost histogram) takes 5s, fastest CPU algorithm (H2O) takes 50s\n",
    "\n",
    "##### Note: H2O's XGBoost integration has some internal overhead still (DMatrix creation is single-threaded, and some parameters have different default values, hence the slightly slower training speed and slightly higher training accuracy) - this doesn't affect the summary conclusion"
   ]
  }
 ],
 "metadata": {
  "anaconda-cloud": {},
  "kernelspec": {
   "display_name": "Python 2",
   "language": "python",
   "name": "python2"
  },
  "language_info": {
   "codemirror_mode": {
    "name": "ipython",
    "version": 3
   },
   "file_extension": ".py",
   "mimetype": "text/x-python",
   "name": "python",
   "nbconvert_exporter": "python",
   "pygments_lexer": "ipython3",
   "version": "3.6.6"
  }
 },
 "nbformat": 4,
 "nbformat_minor": 2
}
